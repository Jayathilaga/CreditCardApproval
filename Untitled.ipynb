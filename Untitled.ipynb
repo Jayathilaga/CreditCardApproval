{
 "cells": [
  {
   "cell_type": "code",
   "execution_count": null,
   "id": "f0da48d4",
   "metadata": {},
   "outputs": [
    {
     "name": "stdout",
     "output_type": "stream",
     "text": [
      "Enter your name:\n"
     ]
    }
   ],
   "source": [
    "import sys\n",
    "print(\"Enter your name:\")\n",
    "name=''\n",
    "while True:\n",
    "    c=sys.stdin.read(1)\n",
    "    if c=='\\n':\n",
    "        break\n",
    "    name=name+c\n",
    "print(\"your name is:\",name)"
   ]
  },
  {
   "cell_type": "code",
   "execution_count": null,
   "id": "ce62a5bb",
   "metadata": {},
   "outputs": [],
   "source": [
    "my $str='1121331'\n",
    "$str=~s/(.)\\1/$1/g"
   ]
  }
 ],
 "metadata": {
  "kernelspec": {
   "display_name": "Python 3",
   "language": "python",
   "name": "python3"
  },
  "language_info": {
   "codemirror_mode": {
    "name": "ipython",
    "version": 3
   },
   "file_extension": ".py",
   "mimetype": "text/x-python",
   "name": "python",
   "nbconvert_exporter": "python",
   "pygments_lexer": "ipython3",
   "version": "3.8.8"
  }
 },
 "nbformat": 4,
 "nbformat_minor": 5
}
